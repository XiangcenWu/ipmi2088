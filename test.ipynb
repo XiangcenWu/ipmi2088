{
 "cells": [
  {
   "cell_type": "code",
   "execution_count": 2,
   "id": "66f644a8",
   "metadata": {},
   "outputs": [],
   "source": [
    "from sklearn.model_selection import train_test_split"
   ]
  },
  {
   "cell_type": "code",
   "execution_count": 33,
   "id": "af9bc04b",
   "metadata": {},
   "outputs": [
    {
     "data": {
      "text/plain": [
       "(tensor([[0.0942],\n",
       "         [0.3376],\n",
       "         [0.3343],\n",
       "         [0.9828],\n",
       "         [0.8859]]),\n",
       " tensor([0.0942, 0.3376, 0.3343, 0.9828, 0.8859]))"
      ]
     },
     "execution_count": 33,
     "metadata": {},
     "output_type": "execute_result"
    }
   ],
   "source": [
    "import torch\n",
    "\n",
    "def weighted_avg_loss(score, performance):\n",
    "    assert score.shape == performance.shape\n",
    "    avg = performance.mean()\n",
    "    weighted_avg = (performance * score).mean()\n",
    "    return torch.norm(avg - weighted_avg)\n",
    "\n",
    "\n",
    "score = torch.rand((5, ))\n",
    "performance = torch.rand(5, 1)\n",
    "performance, performance.squeeze(1)"
   ]
  }
 ],
 "metadata": {
  "kernelspec": {
   "display_name": "Python 3 (ipykernel)",
   "language": "python",
   "name": "python3"
  },
  "language_info": {
   "codemirror_mode": {
    "name": "ipython",
    "version": 3
   },
   "file_extension": ".py",
   "mimetype": "text/x-python",
   "name": "python",
   "nbconvert_exporter": "python",
   "pygments_lexer": "ipython3",
   "version": "3.10.0"
  }
 },
 "nbformat": 4,
 "nbformat_minor": 5
}
