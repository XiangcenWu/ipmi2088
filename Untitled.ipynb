{
 "cells": [
  {
   "cell_type": "code",
   "execution_count": 44,
   "id": "4440dcee",
   "metadata": {},
   "outputs": [
    {
     "name": "stdout",
     "output_type": "stream",
     "text": [
      "True\n"
     ]
    }
   ],
   "source": [
    "from pathlib import Path\n",
    "import torch\n",
    "import os\n",
    "import re\n",
    "print(torch.cuda.is_available())"
   ]
  },
  {
   "cell_type": "code",
   "execution_count": 87,
   "id": "913f879d",
   "metadata": {},
   "outputs": [
    {
     "data": {
      "text/plain": [
       "(210, 210)"
      ]
     },
     "execution_count": 87,
     "metadata": {},
     "output_type": "execute_result"
    }
   ],
   "source": [
    "# re.findall -> return a list of numbers in string\n",
    "def sort_path_list(path_list):\n",
    "    return sorted(path_list, key=lambda i: int(re.findall(r'\\d+', i)[0]))\n",
    "\n",
    "\n",
    "def get_path_list(root_dir, sort=True):\n",
    "    path = Path(root_dir)\n",
    "    path_images = list(path.glob('*.png'))\n",
    "    \n",
    "    img_list = [str(path_image) for path_image in path_images if '_mask' not in str(path_image)]\n",
    "    label_list = [str(path_image) for path_image in path_images if '_mask' in str(path_image)]\n",
    "    \n",
    "    return (sort_path_list(img_list), sort_path_list(label_list)) if sort else (img_list, label_list)\n",
    "    \n",
    "\n",
    "\n",
    "\n",
    "\n",
    "\n",
    "img_list, label_list = get_path_list('.\\data\\Dataset_BUSI_with_GT\\malignant', False)\n",
    "len(img_list), len(label_list)"
   ]
  },
  {
   "cell_type": "code",
   "execution_count": null,
   "id": "cb2af4f3",
   "metadata": {},
   "outputs": [],
   "source": []
  }
 ],
 "metadata": {
  "kernelspec": {
   "display_name": "Python 3 (ipykernel)",
   "language": "python",
   "name": "python3"
  },
  "language_info": {
   "codemirror_mode": {
    "name": "ipython",
    "version": 3
   },
   "file_extension": ".py",
   "mimetype": "text/x-python",
   "name": "python",
   "nbconvert_exporter": "python",
   "pygments_lexer": "ipython3",
   "version": "3.10.0"
  }
 },
 "nbformat": 4,
 "nbformat_minor": 5
}
